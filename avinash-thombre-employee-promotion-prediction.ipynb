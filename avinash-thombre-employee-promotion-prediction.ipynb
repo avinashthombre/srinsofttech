{
 "cells": [
  {
   "cell_type": "markdown",
   "metadata": {},
   "source": [
    "# Employee Promotion Prediction"
   ]
  },
  {
   "cell_type": "markdown",
   "metadata": {},
   "source": [
    "# This data contains the following attributes:\n",
    "\n",
    "employee_id, department\n",
    "region\n",
    "education\n",
    "gender\n",
    "recruitment_channel\n",
    "no_of_trainings\n",
    "age\n",
    "previous_year_rating\n",
    "length_of_service\n",
    "KPIs_met..80.\n",
    "awards_won.\n",
    "avg_training_score\n",
    "is_promoted   ----> Target Variable"
   ]
  },
  {
   "cell_type": "code",
   "execution_count": 1,
   "metadata": {
    "_cell_guid": "b1076dfc-b9ad-4769-8c92-a6c4dae69d19",
    "_uuid": "8f2839f25d086af736a60e9eeb907d3b93b6e0e5"
   },
   "outputs": [],
   "source": [
    "# Importing necessary libraries\n",
    "import pandas as pd\n",
    "import numpy as np\n",
    "import seaborn as sns\n",
    "import matplotlib.pyplot as plt\n",
    "%matplotlib inline"
   ]
  },
  {
   "cell_type": "code",
   "execution_count": 2,
   "metadata": {},
   "outputs": [],
   "source": [
    "# Importing training dataset and test dataset\n",
    "\n",
    "df_train = pd.read_csv('emp_train_dataset.csv')\n",
    "df_test = pd.read_csv('emp_test_dataset.csv')"
   ]
  },
  {
   "cell_type": "code",
   "execution_count": 3,
   "metadata": {},
   "outputs": [
    {
     "name": "stdout",
     "output_type": "stream",
     "text": [
      "Shape of traning data -  (3956, 14)\n",
      "Shape of testing data -  (108, 14)\n"
     ]
    }
   ],
   "source": [
    "print(\"Shape of traning data - \", df_train.shape)\n",
    "print(\"Shape of testing data - \", df_test.shape)\n"
   ]
  },
  {
   "cell_type": "code",
   "execution_count": 4,
   "metadata": {},
   "outputs": [],
   "source": [
    "# Concating the train data and test data together to process it simultaneously\n",
    "df = pd.concat([df_train, df_test])"
   ]
  },
  {
   "cell_type": "code",
   "execution_count": 5,
   "metadata": {},
   "outputs": [
    {
     "name": "stdout",
     "output_type": "stream",
     "text": [
      "<class 'pandas.core.frame.DataFrame'>\n",
      "Int64Index: 4064 entries, 0 to 107\n",
      "Data columns (total 14 columns):\n",
      "employee_id             4064 non-null int64\n",
      "department              4063 non-null object\n",
      "region                  4063 non-null object\n",
      "education               3882 non-null object\n",
      "gender                  4063 non-null object\n",
      "recruitment_channel     4063 non-null object\n",
      "no_of_trainings         4062 non-null float64\n",
      "age                     4062 non-null float64\n",
      "previous_year_rating    3760 non-null float64\n",
      "length_of_service       4062 non-null float64\n",
      "KPIs_met..80.           4062 non-null float64\n",
      "awards_won.             4062 non-null float64\n",
      "avg_training_score      4062 non-null float64\n",
      "is_promoted             4062 non-null float64\n",
      "dtypes: float64(8), int64(1), object(5)\n",
      "memory usage: 476.2+ KB\n"
     ]
    }
   ],
   "source": [
    "df.info()"
   ]
  },
  {
   "cell_type": "code",
   "execution_count": 6,
   "metadata": {},
   "outputs": [
    {
     "name": "stdout",
     "output_type": "stream",
     "text": [
      "Shape of dataset -  (4064, 14)\n"
     ]
    }
   ],
   "source": [
    "print(\"Shape of dataset - \", df.shape)"
   ]
  },
  {
   "cell_type": "code",
   "execution_count": 7,
   "metadata": {},
   "outputs": [
    {
     "name": "stdout",
     "output_type": "stream",
     "text": [
      "employee_id\n",
      "department\n",
      "region\n",
      "education\n",
      "gender\n",
      "recruitment_channel\n",
      "no_of_trainings\n",
      "age\n",
      "previous_year_rating\n",
      "length_of_service\n",
      "KPIs_met..80.\n",
      "awards_won.\n",
      "avg_training_score\n",
      "is_promoted\n"
     ]
    }
   ],
   "source": [
    "print(*df.columns, sep=\"\\n\")"
   ]
  },
  {
   "cell_type": "code",
   "execution_count": 8,
   "metadata": {},
   "outputs": [
    {
     "data": {
      "text/html": [
       "<div>\n",
       "<style scoped>\n",
       "    .dataframe tbody tr th:only-of-type {\n",
       "        vertical-align: middle;\n",
       "    }\n",
       "\n",
       "    .dataframe tbody tr th {\n",
       "        vertical-align: top;\n",
       "    }\n",
       "\n",
       "    .dataframe thead th {\n",
       "        text-align: right;\n",
       "    }\n",
       "</style>\n",
       "<table border=\"1\" class=\"dataframe\">\n",
       "  <thead>\n",
       "    <tr style=\"text-align: right;\">\n",
       "      <th></th>\n",
       "      <th>employee_id</th>\n",
       "      <th>department</th>\n",
       "      <th>region</th>\n",
       "      <th>education</th>\n",
       "      <th>gender</th>\n",
       "      <th>recruitment_channel</th>\n",
       "      <th>no_of_trainings</th>\n",
       "      <th>age</th>\n",
       "      <th>previous_year_rating</th>\n",
       "      <th>length_of_service</th>\n",
       "      <th>KPIs_met..80.</th>\n",
       "      <th>awards_won.</th>\n",
       "      <th>avg_training_score</th>\n",
       "      <th>is_promoted</th>\n",
       "    </tr>\n",
       "  </thead>\n",
       "  <tbody>\n",
       "    <tr>\n",
       "      <th>0</th>\n",
       "      <td>76419</td>\n",
       "      <td>Sales &amp; Marketing</td>\n",
       "      <td>region_7</td>\n",
       "      <td>Master's &amp; above</td>\n",
       "      <td>f</td>\n",
       "      <td>sourcing</td>\n",
       "      <td>1.0</td>\n",
       "      <td>42.0</td>\n",
       "      <td>4.0</td>\n",
       "      <td>4.0</td>\n",
       "      <td>1.0</td>\n",
       "      <td>0.0</td>\n",
       "      <td>48.0</td>\n",
       "      <td>0.0</td>\n",
       "    </tr>\n",
       "    <tr>\n",
       "      <th>1</th>\n",
       "      <td>53942</td>\n",
       "      <td>Technology</td>\n",
       "      <td>region_2</td>\n",
       "      <td>Below Secondary</td>\n",
       "      <td>f</td>\n",
       "      <td>other</td>\n",
       "      <td>2.0</td>\n",
       "      <td>24.0</td>\n",
       "      <td>3.0</td>\n",
       "      <td>2.0</td>\n",
       "      <td>0.0</td>\n",
       "      <td>0.0</td>\n",
       "      <td>77.0</td>\n",
       "      <td>0.0</td>\n",
       "    </tr>\n",
       "    <tr>\n",
       "      <th>2</th>\n",
       "      <td>60805</td>\n",
       "      <td>Sales &amp; Marketing</td>\n",
       "      <td>region_16</td>\n",
       "      <td>Master's &amp; above</td>\n",
       "      <td>m</td>\n",
       "      <td>other</td>\n",
       "      <td>2.0</td>\n",
       "      <td>36.0</td>\n",
       "      <td>3.0</td>\n",
       "      <td>7.0</td>\n",
       "      <td>0.0</td>\n",
       "      <td>0.0</td>\n",
       "      <td>50.0</td>\n",
       "      <td>0.0</td>\n",
       "    </tr>\n",
       "    <tr>\n",
       "      <th>3</th>\n",
       "      <td>65231</td>\n",
       "      <td>Legal</td>\n",
       "      <td>region_31</td>\n",
       "      <td>Bachelor's</td>\n",
       "      <td>m</td>\n",
       "      <td>other</td>\n",
       "      <td>1.0</td>\n",
       "      <td>33.0</td>\n",
       "      <td>3.0</td>\n",
       "      <td>6.0</td>\n",
       "      <td>0.0</td>\n",
       "      <td>0.0</td>\n",
       "      <td>54.0</td>\n",
       "      <td>0.0</td>\n",
       "    </tr>\n",
       "    <tr>\n",
       "      <th>4</th>\n",
       "      <td>70085</td>\n",
       "      <td>Technology</td>\n",
       "      <td>region_13</td>\n",
       "      <td>Master's &amp; above</td>\n",
       "      <td>m</td>\n",
       "      <td>sourcing</td>\n",
       "      <td>1.0</td>\n",
       "      <td>42.0</td>\n",
       "      <td>4.0</td>\n",
       "      <td>4.0</td>\n",
       "      <td>0.0</td>\n",
       "      <td>0.0</td>\n",
       "      <td>79.0</td>\n",
       "      <td>0.0</td>\n",
       "    </tr>\n",
       "    <tr>\n",
       "      <th>5</th>\n",
       "      <td>68001</td>\n",
       "      <td>Procurement</td>\n",
       "      <td>region_20</td>\n",
       "      <td>Bachelor's</td>\n",
       "      <td>m</td>\n",
       "      <td>other</td>\n",
       "      <td>1.0</td>\n",
       "      <td>26.0</td>\n",
       "      <td>3.0</td>\n",
       "      <td>2.0</td>\n",
       "      <td>0.0</td>\n",
       "      <td>0.0</td>\n",
       "      <td>69.0</td>\n",
       "      <td>0.0</td>\n",
       "    </tr>\n",
       "    <tr>\n",
       "      <th>6</th>\n",
       "      <td>21695</td>\n",
       "      <td>Sales &amp; Marketing</td>\n",
       "      <td>region_22</td>\n",
       "      <td>Master's &amp; above</td>\n",
       "      <td>f</td>\n",
       "      <td>other</td>\n",
       "      <td>1.0</td>\n",
       "      <td>35.0</td>\n",
       "      <td>3.0</td>\n",
       "      <td>4.0</td>\n",
       "      <td>0.0</td>\n",
       "      <td>0.0</td>\n",
       "      <td>52.0</td>\n",
       "      <td>0.0</td>\n",
       "    </tr>\n",
       "    <tr>\n",
       "      <th>7</th>\n",
       "      <td>22837</td>\n",
       "      <td>Sales &amp; Marketing</td>\n",
       "      <td>region_26</td>\n",
       "      <td>Master's &amp; above</td>\n",
       "      <td>m</td>\n",
       "      <td>sourcing</td>\n",
       "      <td>1.0</td>\n",
       "      <td>51.0</td>\n",
       "      <td>2.0</td>\n",
       "      <td>2.0</td>\n",
       "      <td>0.0</td>\n",
       "      <td>0.0</td>\n",
       "      <td>46.0</td>\n",
       "      <td>0.0</td>\n",
       "    </tr>\n",
       "    <tr>\n",
       "      <th>8</th>\n",
       "      <td>60467</td>\n",
       "      <td>Operations</td>\n",
       "      <td>region_13</td>\n",
       "      <td>Master's &amp; above</td>\n",
       "      <td>m</td>\n",
       "      <td>sourcing</td>\n",
       "      <td>1.0</td>\n",
       "      <td>41.0</td>\n",
       "      <td>5.0</td>\n",
       "      <td>19.0</td>\n",
       "      <td>0.0</td>\n",
       "      <td>0.0</td>\n",
       "      <td>60.0</td>\n",
       "      <td>0.0</td>\n",
       "    </tr>\n",
       "    <tr>\n",
       "      <th>9</th>\n",
       "      <td>12451</td>\n",
       "      <td>Finance</td>\n",
       "      <td>region_2</td>\n",
       "      <td>Master's &amp; above</td>\n",
       "      <td>f</td>\n",
       "      <td>other</td>\n",
       "      <td>1.0</td>\n",
       "      <td>55.0</td>\n",
       "      <td>3.0</td>\n",
       "      <td>10.0</td>\n",
       "      <td>0.0</td>\n",
       "      <td>0.0</td>\n",
       "      <td>61.0</td>\n",
       "      <td>0.0</td>\n",
       "    </tr>\n",
       "  </tbody>\n",
       "</table>\n",
       "</div>"
      ],
      "text/plain": [
       "   employee_id         department     region         education gender  \\\n",
       "0        76419  Sales & Marketing   region_7  Master's & above      f   \n",
       "1        53942         Technology   region_2   Below Secondary      f   \n",
       "2        60805  Sales & Marketing  region_16  Master's & above      m   \n",
       "3        65231              Legal  region_31        Bachelor's      m   \n",
       "4        70085         Technology  region_13  Master's & above      m   \n",
       "5        68001        Procurement  region_20        Bachelor's      m   \n",
       "6        21695  Sales & Marketing  region_22  Master's & above      f   \n",
       "7        22837  Sales & Marketing  region_26  Master's & above      m   \n",
       "8        60467         Operations  region_13  Master's & above      m   \n",
       "9        12451            Finance   region_2  Master's & above      f   \n",
       "\n",
       "  recruitment_channel  no_of_trainings   age  previous_year_rating  \\\n",
       "0            sourcing              1.0  42.0                   4.0   \n",
       "1               other              2.0  24.0                   3.0   \n",
       "2               other              2.0  36.0                   3.0   \n",
       "3               other              1.0  33.0                   3.0   \n",
       "4            sourcing              1.0  42.0                   4.0   \n",
       "5               other              1.0  26.0                   3.0   \n",
       "6               other              1.0  35.0                   3.0   \n",
       "7            sourcing              1.0  51.0                   2.0   \n",
       "8            sourcing              1.0  41.0                   5.0   \n",
       "9               other              1.0  55.0                   3.0   \n",
       "\n",
       "   length_of_service  KPIs_met..80.  awards_won.  avg_training_score  \\\n",
       "0                4.0            1.0          0.0                48.0   \n",
       "1                2.0            0.0          0.0                77.0   \n",
       "2                7.0            0.0          0.0                50.0   \n",
       "3                6.0            0.0          0.0                54.0   \n",
       "4                4.0            0.0          0.0                79.0   \n",
       "5                2.0            0.0          0.0                69.0   \n",
       "6                4.0            0.0          0.0                52.0   \n",
       "7                2.0            0.0          0.0                46.0   \n",
       "8               19.0            0.0          0.0                60.0   \n",
       "9               10.0            0.0          0.0                61.0   \n",
       "\n",
       "   is_promoted  \n",
       "0          0.0  \n",
       "1          0.0  \n",
       "2          0.0  \n",
       "3          0.0  \n",
       "4          0.0  \n",
       "5          0.0  \n",
       "6          0.0  \n",
       "7          0.0  \n",
       "8          0.0  \n",
       "9          0.0  "
      ]
     },
     "execution_count": 8,
     "metadata": {},
     "output_type": "execute_result"
    }
   ],
   "source": [
    "# Understanding data values\n",
    "df.head(10)"
   ]
  },
  {
   "cell_type": "code",
   "execution_count": 9,
   "metadata": {},
   "outputs": [],
   "source": [
    "df.describe(include=(\"all\"))"
   ]
  },
  {
   "cell_type": "markdown",
   "metadata": {},
   "source": [
    "# Performing basic check on data for count values"
   ]
  },
  {
   "cell_type": "code",
   "execution_count": 10,
   "metadata": {},
   "outputs": [
    {
     "data": {
      "text/plain": [
       "0.0    3720\n",
       "1.0     342\n",
       "Name: is_promoted, dtype: int64"
      ]
     },
     "execution_count": 10,
     "metadata": {},
     "output_type": "execute_result"
    }
   ],
   "source": [
    "df.is_promoted.value_counts()"
   ]
  },
  {
   "cell_type": "code",
   "execution_count": 11,
   "metadata": {},
   "outputs": [
    {
     "data": {
      "text/plain": [
       "0.0    0.915805\n",
       "1.0    0.084195\n",
       "Name: is_promoted, dtype: float64"
      ]
     },
     "execution_count": 11,
     "metadata": {},
     "output_type": "execute_result"
    }
   ],
   "source": [
    "df.is_promoted.value_counts(normalize=True)"
   ]
  },
  {
   "cell_type": "code",
   "execution_count": 12,
   "metadata": {},
   "outputs": [
    {
     "name": "stderr",
     "output_type": "stream",
     "text": [
      "C:\\Users\\piyu\\Anaconda3\\lib\\site-packages\\ipykernel_launcher.py:5: UserWarning: Matplotlib is currently using module://ipykernel.pylab.backend_inline, which is a non-GUI backend, so cannot show the figure.\n",
      "  \"\"\"\n"
     ]
    },
    {
     "data": {
      "image/png": "[encoded data removed]",
      "text/plain": [
       "<Figure size 1152x648 with 5 Axes>"
      ]
     },
     "metadata": {
      "needs_background": "light"
     },
     "output_type": "display_data"
    }
   ],
   "source": [
    "categorical_features = [\"department\", \"education\", \"gender\", \"recruitment_channel\", \"previous_year_rating\", ]\n",
    "fig, ax = plt.subplots(1, len(categorical_features))\n",
    "for i, categorical_feature in enumerate(df[categorical_features]):\n",
    "    df[categorical_feature].value_counts().plot(\"bar\", ax=ax[i], figsize=(16,9)).set_title(categorical_feature)\n",
    "fig.show()"
   ]
  },
  {
   "cell_type": "code",
   "execution_count": 13,
   "metadata": {},
   "outputs": [
    {
     "data": {
      "text/plain": [
       "<matplotlib.axes._subplots.AxesSubplot at 0x22fd352c128>"
      ]
     },
     "execution_count": 13,
     "metadata": {},
     "output_type": "execute_result"
    },
    {
     "data": {
      "image/png": "[encoded data removed]",
      "text/plain": [
       "<Figure size 1152x648 with 1 Axes>"
      ]
     },
     "metadata": {
      "needs_background": "light"
     },
     "output_type": "display_data"
    }
   ],
   "source": [
    "df['is_promoted'].value_counts().plot(kind='bar', figsize=(16,9))"
   ]
  },
  {
   "cell_type": "markdown",
   "metadata": {},
   "source": [
    "Promoted proportion is around 8.4%. We can use k-fold cross valiation to deal with such kind of data."
   ]
  },
  {
   "cell_type": "markdown",
   "metadata": {},
   "source": [
    "### Treating Missing Values"
   ]
  },
  {
   "cell_type": "code",
   "execution_count": 14,
   "metadata": {},
   "outputs": [
    {
     "data": {
      "text/plain": [
       "employee_id               0\n",
       "department                1\n",
       "region                    1\n",
       "education               182\n",
       "gender                    1\n",
       "recruitment_channel       1\n",
       "no_of_trainings           2\n",
       "age                       2\n",
       "previous_year_rating    304\n",
       "length_of_service         2\n",
       "KPIs_met..80.             2\n",
       "awards_won.               2\n",
       "avg_training_score        2\n",
       "is_promoted               2\n",
       "dtype: int64"
      ]
     },
     "execution_count": 14,
     "metadata": {},
     "output_type": "execute_result"
    }
   ],
   "source": [
    "df.isnull().sum()"
   ]
  },
  {
   "cell_type": "markdown",
   "metadata": {},
   "source": [
    "The missing values are present mostly in education and previous_year_rating. We will find out the lenght_of_service for all employees for which the previous_year_rating is missing. This is important to impute these values correctly."
   ]
  },
  {
   "cell_type": "code",
   "execution_count": 15,
   "metadata": {},
   "outputs": [
    {
     "data": {
      "text/plain": [
       "0.12401574803149606"
      ]
     },
     "execution_count": 15,
     "metadata": {},
     "output_type": "execute_result"
    }
   ],
   "source": [
    "df.isnull().sum().sum()/len(df)"
   ]
  },
  {
   "cell_type": "markdown",
   "metadata": {},
   "source": [
    "In the data set,total missing values is around 12.5%\n"
   ]
  },
  {
   "cell_type": "code",
   "execution_count": 16,
   "metadata": {},
   "outputs": [
    {
     "data": {
      "text/html": [
       "<div>\n",
       "<style scoped>\n",
       "    .dataframe tbody tr th:only-of-type {\n",
       "        vertical-align: middle;\n",
       "    }\n",
       "\n",
       "    .dataframe tbody tr th {\n",
       "        vertical-align: top;\n",
       "    }\n",
       "\n",
       "    .dataframe thead th {\n",
       "        text-align: right;\n",
       "    }\n",
       "</style>\n",
       "<table border=\"1\" class=\"dataframe\">\n",
       "  <thead>\n",
       "    <tr style=\"text-align: right;\">\n",
       "      <th></th>\n",
       "      <th>employee_id</th>\n",
       "      <th>department</th>\n",
       "      <th>region</th>\n",
       "      <th>education</th>\n",
       "      <th>gender</th>\n",
       "      <th>recruitment_channel</th>\n",
       "      <th>no_of_trainings</th>\n",
       "      <th>age</th>\n",
       "      <th>previous_year_rating</th>\n",
       "      <th>length_of_service</th>\n",
       "      <th>KPIs_met..80.</th>\n",
       "      <th>awards_won.</th>\n",
       "      <th>avg_training_score</th>\n",
       "      <th>is_promoted</th>\n",
       "    </tr>\n",
       "  </thead>\n",
       "  <tbody>\n",
       "    <tr>\n",
       "      <th>10</th>\n",
       "      <td>32671</td>\n",
       "      <td>HR</td>\n",
       "      <td>region_31</td>\n",
       "      <td>Bachelor's</td>\n",
       "      <td>m</td>\n",
       "      <td>other</td>\n",
       "      <td>1.0</td>\n",
       "      <td>27.0</td>\n",
       "      <td>NaN</td>\n",
       "      <td>1.0</td>\n",
       "      <td>0.0</td>\n",
       "      <td>0.0</td>\n",
       "      <td>50.0</td>\n",
       "      <td>0.0</td>\n",
       "    </tr>\n",
       "    <tr>\n",
       "      <th>23</th>\n",
       "      <td>46373</td>\n",
       "      <td>Operations</td>\n",
       "      <td>region_2</td>\n",
       "      <td>Below Secondary</td>\n",
       "      <td>m</td>\n",
       "      <td>sourcing</td>\n",
       "      <td>1.0</td>\n",
       "      <td>22.0</td>\n",
       "      <td>NaN</td>\n",
       "      <td>1.0</td>\n",
       "      <td>0.0</td>\n",
       "      <td>0.0</td>\n",
       "      <td>59.0</td>\n",
       "      <td>0.0</td>\n",
       "    </tr>\n",
       "    <tr>\n",
       "      <th>31</th>\n",
       "      <td>33732</td>\n",
       "      <td>Sales &amp; Marketing</td>\n",
       "      <td>region_6</td>\n",
       "      <td>Bachelor's</td>\n",
       "      <td>m</td>\n",
       "      <td>other</td>\n",
       "      <td>1.0</td>\n",
       "      <td>32.0</td>\n",
       "      <td>NaN</td>\n",
       "      <td>1.0</td>\n",
       "      <td>0.0</td>\n",
       "      <td>0.0</td>\n",
       "      <td>48.0</td>\n",
       "      <td>0.0</td>\n",
       "    </tr>\n",
       "    <tr>\n",
       "      <th>32</th>\n",
       "      <td>56281</td>\n",
       "      <td>Sales &amp; Marketing</td>\n",
       "      <td>region_34</td>\n",
       "      <td>Bachelor's</td>\n",
       "      <td>m</td>\n",
       "      <td>other</td>\n",
       "      <td>1.0</td>\n",
       "      <td>28.0</td>\n",
       "      <td>NaN</td>\n",
       "      <td>1.0</td>\n",
       "      <td>0.0</td>\n",
       "      <td>0.0</td>\n",
       "      <td>54.0</td>\n",
       "      <td>0.0</td>\n",
       "    </tr>\n",
       "    <tr>\n",
       "      <th>48</th>\n",
       "      <td>14441</td>\n",
       "      <td>Sales &amp; Marketing</td>\n",
       "      <td>region_15</td>\n",
       "      <td>Bachelor's</td>\n",
       "      <td>m</td>\n",
       "      <td>sourcing</td>\n",
       "      <td>1.0</td>\n",
       "      <td>27.0</td>\n",
       "      <td>NaN</td>\n",
       "      <td>1.0</td>\n",
       "      <td>0.0</td>\n",
       "      <td>0.0</td>\n",
       "      <td>48.0</td>\n",
       "      <td>0.0</td>\n",
       "    </tr>\n",
       "  </tbody>\n",
       "</table>\n",
       "</div>"
      ],
      "text/plain": [
       "    employee_id         department     region        education gender  \\\n",
       "10        32671                 HR  region_31       Bachelor's      m   \n",
       "23        46373         Operations   region_2  Below Secondary      m   \n",
       "31        33732  Sales & Marketing   region_6       Bachelor's      m   \n",
       "32        56281  Sales & Marketing  region_34       Bachelor's      m   \n",
       "48        14441  Sales & Marketing  region_15       Bachelor's      m   \n",
       "\n",
       "   recruitment_channel  no_of_trainings   age  previous_year_rating  \\\n",
       "10               other              1.0  27.0                   NaN   \n",
       "23            sourcing              1.0  22.0                   NaN   \n",
       "31               other              1.0  32.0                   NaN   \n",
       "32               other              1.0  28.0                   NaN   \n",
       "48            sourcing              1.0  27.0                   NaN   \n",
       "\n",
       "    length_of_service  KPIs_met..80.  awards_won.  avg_training_score  \\\n",
       "10                1.0            0.0          0.0                50.0   \n",
       "23                1.0            0.0          0.0                59.0   \n",
       "31                1.0            0.0          0.0                48.0   \n",
       "32                1.0            0.0          0.0                54.0   \n",
       "48                1.0            0.0          0.0                48.0   \n",
       "\n",
       "    is_promoted  \n",
       "10          0.0  \n",
       "23          0.0  \n",
       "31          0.0  \n",
       "32          0.0  \n",
       "48          0.0  "
      ]
     },
     "execution_count": 16,
     "metadata": {},
     "output_type": "execute_result"
    }
   ],
   "source": [
    "df_null_rate = df[df['previous_year_rating'].isnull()]\n",
    "df_null_rate.head()"
   ]
  },
  {
   "cell_type": "code",
   "execution_count": 17,
   "metadata": {},
   "outputs": [
    {
     "data": {
      "text/plain": [
       "1.0    302\n",
       "Name: length_of_service, dtype: int64"
      ]
     },
     "execution_count": 17,
     "metadata": {},
     "output_type": "execute_result"
    }
   ],
   "source": [
    "df_null_rate['length_of_service'].value_counts()"
   ]
  },
  {
   "cell_type": "markdown",
   "metadata": {},
   "source": [
    "Since the length of service is 1 for all the employees with previous year rating as null.,which means they are the new recruits with 1 year experience. So they may not be having the previous year rating.We impute 0 for the null values."
   ]
  },
  {
   "cell_type": "code",
   "execution_count": 18,
   "metadata": {},
   "outputs": [],
   "source": [
    "df['previous_year_rating'].fillna(value=0,inplace=True)"
   ]
  },
  {
   "cell_type": "code",
   "execution_count": 19,
   "metadata": {},
   "outputs": [
    {
     "data": {
      "text/plain": [
       "employee_id               0\n",
       "department                1\n",
       "region                    1\n",
       "education               182\n",
       "gender                    1\n",
       "recruitment_channel       1\n",
       "no_of_trainings           2\n",
       "age                       2\n",
       "previous_year_rating      0\n",
       "length_of_service         2\n",
       "KPIs_met..80.             2\n",
       "awards_won.               2\n",
       "avg_training_score        2\n",
       "is_promoted               2\n",
       "dtype: int64"
      ]
     },
     "execution_count": 19,
     "metadata": {},
     "output_type": "execute_result"
    }
   ],
   "source": [
    "# Recheck the missing values\n",
    "df.isnull().sum()"
   ]
  },
  {
   "cell_type": "code",
   "execution_count": 20,
   "metadata": {},
   "outputs": [],
   "source": [
    "df.rename(columns={'KPIs_met..80.': 'KPIs_met >80%', 'awards_won.': 'awards_won?'}, inplace=True)"
   ]
  },
  {
   "cell_type": "code",
   "execution_count": 21,
   "metadata": {},
   "outputs": [],
   "source": [
    "for i in df[df['education'].isnull()]['KPIs_met >80%']==0:\n",
    "    df['education'].fillna(value=\"Bachelor's\",inplace=True)"
   ]
  },
  {
   "cell_type": "code",
   "execution_count": 22,
   "metadata": {},
   "outputs": [],
   "source": [
    "for i in df[df['education'].isnull()]['KPIs_met >80%']==1:\n",
    "    df['education'].fillna(value=\"Master's & above\",inplace=True)"
   ]
  },
  {
   "cell_type": "code",
   "execution_count": 23,
   "metadata": {},
   "outputs": [
    {
     "data": {
      "text/plain": [
       "0"
      ]
     },
     "execution_count": 23,
     "metadata": {},
     "output_type": "execute_result"
    }
   ],
   "source": [
    "df['education'].isnull().sum()"
   ]
  },
  {
   "cell_type": "code",
   "execution_count": 24,
   "metadata": {},
   "outputs": [
    {
     "data": {
      "text/plain": [
       "employee_id             0\n",
       "department              0\n",
       "region                  0\n",
       "education               0\n",
       "gender                  0\n",
       "recruitment_channel     0\n",
       "no_of_trainings         0\n",
       "age                     0\n",
       "previous_year_rating    0\n",
       "length_of_service       0\n",
       "KPIs_met >80%           0\n",
       "awards_won?             0\n",
       "avg_training_score      0\n",
       "is_promoted             0\n",
       "dtype: int64"
      ]
     },
     "execution_count": 24,
     "metadata": {},
     "output_type": "execute_result"
    }
   ],
   "source": [
    "df.dropna(subset=['age'], inplace=True)\n",
    "df.isnull().sum()"
   ]
  },
  {
   "cell_type": "markdown",
   "metadata": {},
   "source": [
    "'employee_id' column is not required, lets remove that"
   ]
  },
  {
   "cell_type": "code",
   "execution_count": 25,
   "metadata": {},
   "outputs": [],
   "source": [
    "df.drop(['employee_id'],axis=1,inplace=True)"
   ]
  },
  {
   "cell_type": "code",
   "execution_count": 26,
   "metadata": {},
   "outputs": [
    {
     "data": {
      "image/png": "[encoded data removed]",
      "text/plain": [
       "<Figure size 1080x576 with 2 Axes>"
      ]
     },
     "metadata": {
      "needs_background": "light"
     },
     "output_type": "display_data"
    }
   ],
   "source": [
    "plt.figure(figsize=(15,8))\n",
    "sns.heatmap(df.corr(),annot=True,linewidths=0.8)\n",
    "plt.show()"
   ]
  },
  {
   "cell_type": "markdown",
   "metadata": {},
   "source": [
    "Here previous_year_rating,KPIs_met>80%,awards_won? and avg_training_score are highly correlated with the target variable i.e is_promoted.\n",
    "\n",
    "Length of the service and age are highly correlated with each other"
   ]
  },
  {
   "cell_type": "code",
   "execution_count": 27,
   "metadata": {},
   "outputs": [],
   "source": [
    "# Encoding the categorical values\n",
    "df_new=pd.get_dummies(df,['department','region','education','gender','recruitment_channel'],drop_first=True)"
   ]
  },
  {
   "cell_type": "code",
   "execution_count": 28,
   "metadata": {},
   "outputs": [
    {
     "data": {
      "text/html": [
       "<div>\n",
       "<style scoped>\n",
       "    .dataframe tbody tr th:only-of-type {\n",
       "        vertical-align: middle;\n",
       "    }\n",
       "\n",
       "    .dataframe tbody tr th {\n",
       "        vertical-align: top;\n",
       "    }\n",
       "\n",
       "    .dataframe thead th {\n",
       "        text-align: right;\n",
       "    }\n",
       "</style>\n",
       "<table border=\"1\" class=\"dataframe\">\n",
       "  <thead>\n",
       "    <tr style=\"text-align: right;\">\n",
       "      <th></th>\n",
       "      <th>no_of_trainings</th>\n",
       "      <th>age</th>\n",
       "      <th>previous_year_rating</th>\n",
       "      <th>length_of_service</th>\n",
       "      <th>KPIs_met &gt;80%</th>\n",
       "      <th>awards_won?</th>\n",
       "      <th>avg_training_score</th>\n",
       "      <th>is_promoted</th>\n",
       "      <th>department_Finance</th>\n",
       "      <th>department_HR</th>\n",
       "      <th>...</th>\n",
       "      <th>region_region_5</th>\n",
       "      <th>region_region_6</th>\n",
       "      <th>region_region_7</th>\n",
       "      <th>region_region_8</th>\n",
       "      <th>region_region_9</th>\n",
       "      <th>education_Below Secondary</th>\n",
       "      <th>education_Master's &amp; above</th>\n",
       "      <th>gender_m</th>\n",
       "      <th>recruitment_channel_referred</th>\n",
       "      <th>recruitment_channel_sourcing</th>\n",
       "    </tr>\n",
       "  </thead>\n",
       "  <tbody>\n",
       "    <tr>\n",
       "      <th>0</th>\n",
       "      <td>1.0</td>\n",
       "      <td>42.0</td>\n",
       "      <td>4.0</td>\n",
       "      <td>4.0</td>\n",
       "      <td>1.0</td>\n",
       "      <td>0.0</td>\n",
       "      <td>48.0</td>\n",
       "      <td>0.0</td>\n",
       "      <td>0</td>\n",
       "      <td>0</td>\n",
       "      <td>...</td>\n",
       "      <td>0</td>\n",
       "      <td>0</td>\n",
       "      <td>1</td>\n",
       "      <td>0</td>\n",
       "      <td>0</td>\n",
       "      <td>0</td>\n",
       "      <td>1</td>\n",
       "      <td>0</td>\n",
       "      <td>0</td>\n",
       "      <td>1</td>\n",
       "    </tr>\n",
       "    <tr>\n",
       "      <th>1</th>\n",
       "      <td>2.0</td>\n",
       "      <td>24.0</td>\n",
       "      <td>3.0</td>\n",
       "      <td>2.0</td>\n",
       "      <td>0.0</td>\n",
       "      <td>0.0</td>\n",
       "      <td>77.0</td>\n",
       "      <td>0.0</td>\n",
       "      <td>0</td>\n",
       "      <td>0</td>\n",
       "      <td>...</td>\n",
       "      <td>0</td>\n",
       "      <td>0</td>\n",
       "      <td>0</td>\n",
       "      <td>0</td>\n",
       "      <td>0</td>\n",
       "      <td>1</td>\n",
       "      <td>0</td>\n",
       "      <td>0</td>\n",
       "      <td>0</td>\n",
       "      <td>0</td>\n",
       "    </tr>\n",
       "    <tr>\n",
       "      <th>2</th>\n",
       "      <td>2.0</td>\n",
       "      <td>36.0</td>\n",
       "      <td>3.0</td>\n",
       "      <td>7.0</td>\n",
       "      <td>0.0</td>\n",
       "      <td>0.0</td>\n",
       "      <td>50.0</td>\n",
       "      <td>0.0</td>\n",
       "      <td>0</td>\n",
       "      <td>0</td>\n",
       "      <td>...</td>\n",
       "      <td>0</td>\n",
       "      <td>0</td>\n",
       "      <td>0</td>\n",
       "      <td>0</td>\n",
       "      <td>0</td>\n",
       "      <td>0</td>\n",
       "      <td>1</td>\n",
       "      <td>1</td>\n",
       "      <td>0</td>\n",
       "      <td>0</td>\n",
       "    </tr>\n",
       "    <tr>\n",
       "      <th>3</th>\n",
       "      <td>1.0</td>\n",
       "      <td>33.0</td>\n",
       "      <td>3.0</td>\n",
       "      <td>6.0</td>\n",
       "      <td>0.0</td>\n",
       "      <td>0.0</td>\n",
       "      <td>54.0</td>\n",
       "      <td>0.0</td>\n",
       "      <td>0</td>\n",
       "      <td>0</td>\n",
       "      <td>...</td>\n",
       "      <td>0</td>\n",
       "      <td>0</td>\n",
       "      <td>0</td>\n",
       "      <td>0</td>\n",
       "      <td>0</td>\n",
       "      <td>0</td>\n",
       "      <td>0</td>\n",
       "      <td>1</td>\n",
       "      <td>0</td>\n",
       "      <td>0</td>\n",
       "    </tr>\n",
       "    <tr>\n",
       "      <th>4</th>\n",
       "      <td>1.0</td>\n",
       "      <td>42.0</td>\n",
       "      <td>4.0</td>\n",
       "      <td>4.0</td>\n",
       "      <td>0.0</td>\n",
       "      <td>0.0</td>\n",
       "      <td>79.0</td>\n",
       "      <td>0.0</td>\n",
       "      <td>0</td>\n",
       "      <td>0</td>\n",
       "      <td>...</td>\n",
       "      <td>0</td>\n",
       "      <td>0</td>\n",
       "      <td>0</td>\n",
       "      <td>0</td>\n",
       "      <td>0</td>\n",
       "      <td>0</td>\n",
       "      <td>1</td>\n",
       "      <td>1</td>\n",
       "      <td>0</td>\n",
       "      <td>1</td>\n",
       "    </tr>\n",
       "  </tbody>\n",
       "</table>\n",
       "<p>5 rows × 54 columns</p>\n",
       "</div>"
      ],
      "text/plain": [
       "   no_of_trainings   age  previous_year_rating  length_of_service  \\\n",
       "0              1.0  42.0                   4.0                4.0   \n",
       "1              2.0  24.0                   3.0                2.0   \n",
       "2              2.0  36.0                   3.0                7.0   \n",
       "3              1.0  33.0                   3.0                6.0   \n",
       "4              1.0  42.0                   4.0                4.0   \n",
       "\n",
       "   KPIs_met >80%  awards_won?  avg_training_score  is_promoted  \\\n",
       "0            1.0          0.0                48.0          0.0   \n",
       "1            0.0          0.0                77.0          0.0   \n",
       "2            0.0          0.0                50.0          0.0   \n",
       "3            0.0          0.0                54.0          0.0   \n",
       "4            0.0          0.0                79.0          0.0   \n",
       "\n",
       "   department_Finance  department_HR  ...  region_region_5  region_region_6  \\\n",
       "0                   0              0  ...                0                0   \n",
       "1                   0              0  ...                0                0   \n",
       "2                   0              0  ...                0                0   \n",
       "3                   0              0  ...                0                0   \n",
       "4                   0              0  ...                0                0   \n",
       "\n",
       "   region_region_7  region_region_8  region_region_9  \\\n",
       "0                1                0                0   \n",
       "1                0                0                0   \n",
       "2                0                0                0   \n",
       "3                0                0                0   \n",
       "4                0                0                0   \n",
       "\n",
       "   education_Below Secondary  education_Master's & above  gender_m  \\\n",
       "0                          0                           1         0   \n",
       "1                          1                           0         0   \n",
       "2                          0                           1         1   \n",
       "3                          0                           0         1   \n",
       "4                          0                           1         1   \n",
       "\n",
       "   recruitment_channel_referred  recruitment_channel_sourcing  \n",
       "0                             0                             1  \n",
       "1                             0                             0  \n",
       "2                             0                             0  \n",
       "3                             0                             0  \n",
       "4                             0                             1  \n",
       "\n",
       "[5 rows x 54 columns]"
      ]
     },
     "execution_count": 28,
     "metadata": {},
     "output_type": "execute_result"
    }
   ],
   "source": [
    "df_new.head()"
   ]
  },
  {
   "cell_type": "code",
   "execution_count": 29,
   "metadata": {},
   "outputs": [
    {
     "name": "stdout",
     "output_type": "stream",
     "text": [
      "Shape of processed traning data -  (3956, 54)\n",
      "Shape of processed testing data -  (106, 54)\n"
     ]
    }
   ],
   "source": [
    "# Splitting the concatenated data into train and test again\n",
    "\n",
    "df_train = df_new.iloc[:3956, :]\n",
    "df_test = df_new.iloc[3956:, :]\n",
    "\n",
    "print(\"Shape of processed traning data - \", df_train.shape)\n",
    "print(\"Shape of processed testing data - \", df_test.shape)\n"
   ]
  },
  {
   "cell_type": "code",
   "execution_count": 30,
   "metadata": {},
   "outputs": [
    {
     "data": {
      "text/html": [
       "<div>\n",
       "<style scoped>\n",
       "    .dataframe tbody tr th:only-of-type {\n",
       "        vertical-align: middle;\n",
       "    }\n",
       "\n",
       "    .dataframe tbody tr th {\n",
       "        vertical-align: top;\n",
       "    }\n",
       "\n",
       "    .dataframe thead th {\n",
       "        text-align: right;\n",
       "    }\n",
       "</style>\n",
       "<table border=\"1\" class=\"dataframe\">\n",
       "  <thead>\n",
       "    <tr style=\"text-align: right;\">\n",
       "      <th></th>\n",
       "      <th>no_of_trainings</th>\n",
       "      <th>age</th>\n",
       "      <th>previous_year_rating</th>\n",
       "      <th>length_of_service</th>\n",
       "      <th>KPIs_met &gt;80%</th>\n",
       "      <th>awards_won?</th>\n",
       "      <th>avg_training_score</th>\n",
       "      <th>is_promoted</th>\n",
       "      <th>department_Finance</th>\n",
       "      <th>department_HR</th>\n",
       "      <th>...</th>\n",
       "      <th>region_region_5</th>\n",
       "      <th>region_region_6</th>\n",
       "      <th>region_region_7</th>\n",
       "      <th>region_region_8</th>\n",
       "      <th>region_region_9</th>\n",
       "      <th>education_Below Secondary</th>\n",
       "      <th>education_Master's &amp; above</th>\n",
       "      <th>gender_m</th>\n",
       "      <th>recruitment_channel_referred</th>\n",
       "      <th>recruitment_channel_sourcing</th>\n",
       "    </tr>\n",
       "  </thead>\n",
       "  <tbody>\n",
       "    <tr>\n",
       "      <th>0</th>\n",
       "      <td>1.0</td>\n",
       "      <td>42.0</td>\n",
       "      <td>4.0</td>\n",
       "      <td>4.0</td>\n",
       "      <td>1.0</td>\n",
       "      <td>0.0</td>\n",
       "      <td>48.0</td>\n",
       "      <td>0.0</td>\n",
       "      <td>0</td>\n",
       "      <td>0</td>\n",
       "      <td>...</td>\n",
       "      <td>0</td>\n",
       "      <td>0</td>\n",
       "      <td>1</td>\n",
       "      <td>0</td>\n",
       "      <td>0</td>\n",
       "      <td>0</td>\n",
       "      <td>1</td>\n",
       "      <td>0</td>\n",
       "      <td>0</td>\n",
       "      <td>1</td>\n",
       "    </tr>\n",
       "    <tr>\n",
       "      <th>1</th>\n",
       "      <td>2.0</td>\n",
       "      <td>24.0</td>\n",
       "      <td>3.0</td>\n",
       "      <td>2.0</td>\n",
       "      <td>0.0</td>\n",
       "      <td>0.0</td>\n",
       "      <td>77.0</td>\n",
       "      <td>0.0</td>\n",
       "      <td>0</td>\n",
       "      <td>0</td>\n",
       "      <td>...</td>\n",
       "      <td>0</td>\n",
       "      <td>0</td>\n",
       "      <td>0</td>\n",
       "      <td>0</td>\n",
       "      <td>0</td>\n",
       "      <td>1</td>\n",
       "      <td>0</td>\n",
       "      <td>0</td>\n",
       "      <td>0</td>\n",
       "      <td>0</td>\n",
       "    </tr>\n",
       "    <tr>\n",
       "      <th>2</th>\n",
       "      <td>2.0</td>\n",
       "      <td>36.0</td>\n",
       "      <td>3.0</td>\n",
       "      <td>7.0</td>\n",
       "      <td>0.0</td>\n",
       "      <td>0.0</td>\n",
       "      <td>50.0</td>\n",
       "      <td>0.0</td>\n",
       "      <td>0</td>\n",
       "      <td>0</td>\n",
       "      <td>...</td>\n",
       "      <td>0</td>\n",
       "      <td>0</td>\n",
       "      <td>0</td>\n",
       "      <td>0</td>\n",
       "      <td>0</td>\n",
       "      <td>0</td>\n",
       "      <td>1</td>\n",
       "      <td>1</td>\n",
       "      <td>0</td>\n",
       "      <td>0</td>\n",
       "    </tr>\n",
       "    <tr>\n",
       "      <th>3</th>\n",
       "      <td>1.0</td>\n",
       "      <td>33.0</td>\n",
       "      <td>3.0</td>\n",
       "      <td>6.0</td>\n",
       "      <td>0.0</td>\n",
       "      <td>0.0</td>\n",
       "      <td>54.0</td>\n",
       "      <td>0.0</td>\n",
       "      <td>0</td>\n",
       "      <td>0</td>\n",
       "      <td>...</td>\n",
       "      <td>0</td>\n",
       "      <td>0</td>\n",
       "      <td>0</td>\n",
       "      <td>0</td>\n",
       "      <td>0</td>\n",
       "      <td>0</td>\n",
       "      <td>0</td>\n",
       "      <td>1</td>\n",
       "      <td>0</td>\n",
       "      <td>0</td>\n",
       "    </tr>\n",
       "    <tr>\n",
       "      <th>4</th>\n",
       "      <td>1.0</td>\n",
       "      <td>42.0</td>\n",
       "      <td>4.0</td>\n",
       "      <td>4.0</td>\n",
       "      <td>0.0</td>\n",
       "      <td>0.0</td>\n",
       "      <td>79.0</td>\n",
       "      <td>0.0</td>\n",
       "      <td>0</td>\n",
       "      <td>0</td>\n",
       "      <td>...</td>\n",
       "      <td>0</td>\n",
       "      <td>0</td>\n",
       "      <td>0</td>\n",
       "      <td>0</td>\n",
       "      <td>0</td>\n",
       "      <td>0</td>\n",
       "      <td>1</td>\n",
       "      <td>1</td>\n",
       "      <td>0</td>\n",
       "      <td>1</td>\n",
       "    </tr>\n",
       "  </tbody>\n",
       "</table>\n",
       "<p>5 rows × 54 columns</p>\n",
       "</div>"
      ],
      "text/plain": [
       "   no_of_trainings   age  previous_year_rating  length_of_service  \\\n",
       "0              1.0  42.0                   4.0                4.0   \n",
       "1              2.0  24.0                   3.0                2.0   \n",
       "2              2.0  36.0                   3.0                7.0   \n",
       "3              1.0  33.0                   3.0                6.0   \n",
       "4              1.0  42.0                   4.0                4.0   \n",
       "\n",
       "   KPIs_met >80%  awards_won?  avg_training_score  is_promoted  \\\n",
       "0            1.0          0.0                48.0          0.0   \n",
       "1            0.0          0.0                77.0          0.0   \n",
       "2            0.0          0.0                50.0          0.0   \n",
       "3            0.0          0.0                54.0          0.0   \n",
       "4            0.0          0.0                79.0          0.0   \n",
       "\n",
       "   department_Finance  department_HR  ...  region_region_5  region_region_6  \\\n",
       "0                   0              0  ...                0                0   \n",
       "1                   0              0  ...                0                0   \n",
       "2                   0              0  ...                0                0   \n",
       "3                   0              0  ...                0                0   \n",
       "4                   0              0  ...                0                0   \n",
       "\n",
       "   region_region_7  region_region_8  region_region_9  \\\n",
       "0                1                0                0   \n",
       "1                0                0                0   \n",
       "2                0                0                0   \n",
       "3                0                0                0   \n",
       "4                0                0                0   \n",
       "\n",
       "   education_Below Secondary  education_Master's & above  gender_m  \\\n",
       "0                          0                           1         0   \n",
       "1                          1                           0         0   \n",
       "2                          0                           1         1   \n",
       "3                          0                           0         1   \n",
       "4                          0                           1         1   \n",
       "\n",
       "   recruitment_channel_referred  recruitment_channel_sourcing  \n",
       "0                             0                             1  \n",
       "1                             0                             0  \n",
       "2                             0                             0  \n",
       "3                             0                             0  \n",
       "4                             0                             1  \n",
       "\n",
       "[5 rows x 54 columns]"
      ]
     },
     "execution_count": 30,
     "metadata": {},
     "output_type": "execute_result"
    }
   ],
   "source": [
    "df_train.head()"
   ]
  },
  {
   "cell_type": "code",
   "execution_count": 31,
   "metadata": {},
   "outputs": [
    {
     "data": {
      "text/plain": [
       "0"
      ]
     },
     "execution_count": 31,
     "metadata": {},
     "output_type": "execute_result"
    }
   ],
   "source": [
    "# One last check for null values\n",
    "df_train.isnull().sum().sum()"
   ]
  },
  {
   "cell_type": "code",
   "execution_count": 32,
   "metadata": {},
   "outputs": [],
   "source": [
    "# Separating features and target \n",
    "\n",
    "df_train_feat = df_train.drop('is_promoted', 1)\n",
    "df_train_class = df_train['is_promoted']"
   ]
  },
  {
   "cell_type": "markdown",
   "metadata": {},
   "source": [
    "# Model selection and training\n",
    "\n",
    "We will try with nultiple models and analyse their performance."
   ]
  },
  {
   "cell_type": "code",
   "execution_count": 33,
   "metadata": {},
   "outputs": [],
   "source": [
    "# Splitting the data into training data and test data\n",
    "\n",
    "from sklearn.model_selection import train_test_split\n",
    "X_train, X_test, y_train, y_test=train_test_split(df_train_feat, df_train_class, test_size=0.2, random_state=0)"
   ]
  },
  {
   "cell_type": "code",
   "execution_count": 34,
   "metadata": {},
   "outputs": [
    {
     "name": "stdout",
     "output_type": "stream",
     "text": [
      "Accuracy score:  svc  -  0.9\n",
      "Accuracy score:  lr  -  0.91\n",
      "Accuracy score:  knn  -  0.91\n",
      "Accuracy score:  rfc  -  0.9\n",
      "Accuracy score:  dtc  -  0.9\n"
     ]
    }
   ],
   "source": [
    "# SVM Classifier\n",
    "# Logistic Regression\n",
    "# KNN\n",
    "# Random Forest\n",
    "# Decision Tree \n",
    "\n",
    "from sklearn.svm import SVC\n",
    "from sklearn.ensemble import RandomForestClassifier\n",
    "from sklearn.linear_model import LogisticRegression\n",
    "from sklearn.neighbors import KNeighborsClassifier\n",
    "from sklearn.tree import DecisionTreeClassifier\n",
    "from sklearn.metrics import accuracy_score\n",
    "\n",
    "model_dict={SVC(kernel=\"rbf\", C=1, gamma=1000, probability=True):\"svc\",\n",
    "    LogisticRegression(solver=\"liblinear\", random_state=0):\"lr\",\n",
    "    KNeighborsClassifier(n_neighbors=10):'knn',\n",
    "    RandomForestClassifier(max_depth=3, n_estimators=100, random_state=0):'rfc',\n",
    "    DecisionTreeClassifier(random_state=0):'dtc'}\n",
    "for model in model_dict:\n",
    "    model.fit(X_train, y_train)\n",
    "    pred_c=model.predict(X_test)\n",
    "    accc=accuracy_score(y_test, pred_c)\n",
    "    print(\"Accuracy score: \", model_dict[model], \" - \", accc.round(2))"
   ]
  },
  {
   "cell_type": "markdown",
   "metadata": {},
   "source": [
    "### Clearly logistic regression gave better accuracy.\n",
    "\n",
    "Lets test this with K-fold cross validation because it gives better results. he mean of these K scores is consider as the ultimate accuracy score for the model.\n"
   ]
  },
  {
   "cell_type": "code",
   "execution_count": 35,
   "metadata": {},
   "outputs": [
    {
     "name": "stdout",
     "output_type": "stream",
     "text": [
      "Accuracy score for model -  svc with cross validation is  0.92\n",
      "Accuracy score for model -  lr with cross validation is  0.93\n",
      "Accuracy score for model -  knn with cross validation is  0.92\n",
      "Accuracy score for model -  rfc with cross validation is  0.92\n",
      "Accuracy score for model -  dtc with cross validation is  0.89\n"
     ]
    }
   ],
   "source": [
    "from sklearn.model_selection import cross_val_score\n",
    "for model in model_dict:\n",
    "    score=cross_val_score(model,df_train_feat,df_train_class, cv=10)\n",
    "    print(\"Accuracy score for model - \", model_dict[model], \"with cross validation is \",'{:3.2f}'.format(score.mean()))"
   ]
  },
  {
   "cell_type": "markdown",
   "metadata": {},
   "source": [
    "## Evaluation metric the model\n",
    "\n",
    "We use model evaluation metric like confusion matrix, precision, recall, F1 score, and AUR-ROC curve. We will analyse the performance of each model one by one.\n",
    " "
   ]
  },
  {
   "cell_type": "code",
   "execution_count": 36,
   "metadata": {},
   "outputs": [
    {
     "name": "stdout",
     "output_type": "stream",
     "text": [
      "Accuracy score:  svc  -  0.9\n",
      "The confusion Matrix for model:svc \n",
      "\n",
      "\n",
      "[[714   0]\n",
      " [ 78   0]] \n",
      "\n",
      "              precision    recall  f1-score   support\n",
      "\n",
      "         0.0       0.90      1.00      0.95       714\n",
      "         1.0       0.00      0.00      0.00        78\n",
      "\n",
      "    accuracy                           0.90       792\n",
      "   macro avg       0.45      0.50      0.47       792\n",
      "weighted avg       0.81      0.90      0.85       792\n",
      "\n"
     ]
    },
    {
     "name": "stderr",
     "output_type": "stream",
     "text": [
      "C:\\Users\\piyu\\Anaconda3\\lib\\site-packages\\sklearn\\metrics\\classification.py:1437: UndefinedMetricWarning: Precision and F-score are ill-defined and being set to 0.0 in labels with no predicted samples.\n",
      "  'precision', 'predicted', average, warn_for)\n"
     ]
    },
    {
     "name": "stdout",
     "output_type": "stream",
     "text": [
      "Accuracy score:  lr  -  0.91\n",
      "The confusion Matrix for model:lr \n",
      "\n",
      "\n",
      "[[714   0]\n",
      " [ 69   9]] \n",
      "\n",
      "              precision    recall  f1-score   support\n",
      "\n",
      "         0.0       0.91      1.00      0.95       714\n",
      "         1.0       1.00      0.12      0.21        78\n",
      "\n",
      "    accuracy                           0.91       792\n",
      "   macro avg       0.96      0.56      0.58       792\n",
      "weighted avg       0.92      0.91      0.88       792\n",
      "\n",
      "Accuracy score:  knn  -  0.91\n",
      "The confusion Matrix for model:knn \n",
      "\n",
      "\n",
      "[[714   0]\n",
      " [ 74   4]] \n",
      "\n",
      "              precision    recall  f1-score   support\n",
      "\n",
      "         0.0       0.91      1.00      0.95       714\n",
      "         1.0       1.00      0.05      0.10        78\n",
      "\n",
      "    accuracy                           0.91       792\n",
      "   macro avg       0.95      0.53      0.52       792\n",
      "weighted avg       0.92      0.91      0.87       792\n",
      "\n",
      "Accuracy score:  rfc  -  0.9\n",
      "The confusion Matrix for model:rfc \n",
      "\n",
      "\n",
      "[[714   0]\n",
      " [ 78   0]] \n",
      "\n",
      "              precision    recall  f1-score   support\n",
      "\n",
      "         0.0       0.90      1.00      0.95       714\n",
      "         1.0       0.00      0.00      0.00        78\n",
      "\n",
      "    accuracy                           0.90       792\n",
      "   macro avg       0.45      0.50      0.47       792\n",
      "weighted avg       0.81      0.90      0.85       792\n",
      "\n",
      "Accuracy score:  dtc  -  0.9\n",
      "The confusion Matrix for model:dtc \n",
      "\n",
      "\n",
      "[[679  35]\n",
      " [ 42  36]] \n",
      "\n",
      "              precision    recall  f1-score   support\n",
      "\n",
      "         0.0       0.94      0.95      0.95       714\n",
      "         1.0       0.51      0.46      0.48        78\n",
      "\n",
      "    accuracy                           0.90       792\n",
      "   macro avg       0.72      0.71      0.71       792\n",
      "weighted avg       0.90      0.90      0.90       792\n",
      "\n"
     ]
    },
    {
     "name": "stderr",
     "output_type": "stream",
     "text": [
      "C:\\Users\\piyu\\Anaconda3\\lib\\site-packages\\sklearn\\metrics\\classification.py:1437: UndefinedMetricWarning: Precision and F-score are ill-defined and being set to 0.0 in labels with no predicted samples.\n",
      "  'precision', 'predicted', average, warn_for)\n"
     ]
    }
   ],
   "source": [
    "from sklearn.metrics import confusion_matrix, accuracy_score, classification_report\n",
    "\n",
    "model_dict={SVC(kernel=\"rbf\", C=1, gamma=1000, probability=True):\"svc\",\n",
    "    LogisticRegression(solver=\"liblinear\", random_state=0):\"lr\",\n",
    "    KNeighborsClassifier(n_neighbors=10):'knn',\n",
    "    RandomForestClassifier(max_depth=3, n_estimators=100, random_state=0):'rfc',\n",
    "    DecisionTreeClassifier(random_state=0):'dtc'}\n",
    "for model in model_dict:\n",
    "    model.fit(X_train, y_train)\n",
    "    pred_c=model.predict(X_test)\n",
    "    accc=accuracy_score(y_test, pred_c)\n",
    "    print(\"Accuracy score: \", model_dict[model], \" - \", accc.round(2))\n",
    "    print (\"The confusion Matrix for model:{} \\n\\n\".format(model_dict[model]))\n",
    "    print (confusion_matrix(y_test, pred_c), '\\n')\n",
    "    print (classification_report(y_test, pred_c))"
   ]
  },
  {
   "cell_type": "code",
   "execution_count": 37,
   "metadata": {},
   "outputs": [
    {
     "data": {
      "image/png": "[encoded data removed]",
      "text/plain": [
       "<Figure size 432x288 with 1 Axes>"
      ]
     },
     "metadata": {
      "needs_background": "light"
     },
     "output_type": "display_data"
    }
   ],
   "source": [
    "from sklearn.metrics import roc_curve, auc\n",
    "model_dict={SVC(kernel=\"rbf\", C=1, gamma=1000, probability=True):\"svc\",\n",
    "    LogisticRegression(solver=\"liblinear\", random_state=0):\"lr\",\n",
    "    KNeighborsClassifier(n_neighbors=10):'knc',\n",
    "    RandomForestClassifier(max_depth=3, n_estimators=100):'rfc',\n",
    "    DecisionTreeClassifier():'dtc'}\n",
    "for model in model_dict:\n",
    "    model.fit(X_train,y_train)\n",
    "    prob=model.predict_proba(X_test)\n",
    "    fpr, tpr, thresholds=roc_curve(y_test, prob[:,1])\n",
    "    roc_auc=auc(fpr, tpr)\n",
    "    plt.plot(fpr, tpr, lw=3, label=model_dict[model]+' AUC = %0.2f' % roc_auc)\n",
    "    plt.legend(loc='lower right')\n",
    "plt.plot([0, 1], [0, 1],'r--')\n",
    "plt.title('Receiver Operating Characteristic', fontsize=15)\n",
    "\n",
    "plt.xlim([-0.02, 1.02])\n",
    "plt.ylim([-0.02, 1.02])\n",
    "plt.ylabel('True Positive Rate')\n",
    "plt.xlabel('False Positive Rate')\n",
    "plt.rcParams[\"figure.figsize\"] = (17,12)\n",
    "plt.show()"
   ]
  },
  {
   "cell_type": "markdown",
   "metadata": {},
   "source": [
    "The Performance of Logistic regression is better than other models."
   ]
  },
  {
   "cell_type": "markdown",
   "metadata": {},
   "source": [
    "# Prediction on Test Data"
   ]
  },
  {
   "cell_type": "code",
   "execution_count": 38,
   "metadata": {},
   "outputs": [
    {
     "data": {
      "text/html": [
       "<div>\n",
       "<style scoped>\n",
       "    .dataframe tbody tr th:only-of-type {\n",
       "        vertical-align: middle;\n",
       "    }\n",
       "\n",
       "    .dataframe tbody tr th {\n",
       "        vertical-align: top;\n",
       "    }\n",
       "\n",
       "    .dataframe thead th {\n",
       "        text-align: right;\n",
       "    }\n",
       "</style>\n",
       "<table border=\"1\" class=\"dataframe\">\n",
       "  <thead>\n",
       "    <tr style=\"text-align: right;\">\n",
       "      <th></th>\n",
       "      <th>no_of_trainings</th>\n",
       "      <th>age</th>\n",
       "      <th>previous_year_rating</th>\n",
       "      <th>length_of_service</th>\n",
       "      <th>KPIs_met &gt;80%</th>\n",
       "      <th>awards_won?</th>\n",
       "      <th>avg_training_score</th>\n",
       "      <th>department_Finance</th>\n",
       "      <th>department_HR</th>\n",
       "      <th>department_Legal</th>\n",
       "      <th>...</th>\n",
       "      <th>region_region_5</th>\n",
       "      <th>region_region_6</th>\n",
       "      <th>region_region_7</th>\n",
       "      <th>region_region_8</th>\n",
       "      <th>region_region_9</th>\n",
       "      <th>education_Below Secondary</th>\n",
       "      <th>education_Master's &amp; above</th>\n",
       "      <th>gender_m</th>\n",
       "      <th>recruitment_channel_referred</th>\n",
       "      <th>recruitment_channel_sourcing</th>\n",
       "    </tr>\n",
       "  </thead>\n",
       "  <tbody>\n",
       "    <tr>\n",
       "      <th>1</th>\n",
       "      <td>1.0</td>\n",
       "      <td>30.0</td>\n",
       "      <td>5.0</td>\n",
       "      <td>4.0</td>\n",
       "      <td>0.0</td>\n",
       "      <td>0.0</td>\n",
       "      <td>60.0</td>\n",
       "      <td>0</td>\n",
       "      <td>0</td>\n",
       "      <td>0</td>\n",
       "      <td>...</td>\n",
       "      <td>0</td>\n",
       "      <td>0</td>\n",
       "      <td>0</td>\n",
       "      <td>0</td>\n",
       "      <td>0</td>\n",
       "      <td>0</td>\n",
       "      <td>0</td>\n",
       "      <td>1</td>\n",
       "      <td>0</td>\n",
       "      <td>0</td>\n",
       "    </tr>\n",
       "    <tr>\n",
       "      <th>2</th>\n",
       "      <td>1.0</td>\n",
       "      <td>34.0</td>\n",
       "      <td>3.0</td>\n",
       "      <td>7.0</td>\n",
       "      <td>0.0</td>\n",
       "      <td>0.0</td>\n",
       "      <td>50.0</td>\n",
       "      <td>0</td>\n",
       "      <td>0</td>\n",
       "      <td>0</td>\n",
       "      <td>...</td>\n",
       "      <td>0</td>\n",
       "      <td>0</td>\n",
       "      <td>0</td>\n",
       "      <td>0</td>\n",
       "      <td>0</td>\n",
       "      <td>0</td>\n",
       "      <td>0</td>\n",
       "      <td>1</td>\n",
       "      <td>0</td>\n",
       "      <td>1</td>\n",
       "    </tr>\n",
       "    <tr>\n",
       "      <th>3</th>\n",
       "      <td>1.0</td>\n",
       "      <td>45.0</td>\n",
       "      <td>3.0</td>\n",
       "      <td>2.0</td>\n",
       "      <td>0.0</td>\n",
       "      <td>0.0</td>\n",
       "      <td>73.0</td>\n",
       "      <td>0</td>\n",
       "      <td>0</td>\n",
       "      <td>0</td>\n",
       "      <td>...</td>\n",
       "      <td>0</td>\n",
       "      <td>0</td>\n",
       "      <td>0</td>\n",
       "      <td>0</td>\n",
       "      <td>0</td>\n",
       "      <td>0</td>\n",
       "      <td>0</td>\n",
       "      <td>1</td>\n",
       "      <td>0</td>\n",
       "      <td>0</td>\n",
       "    </tr>\n",
       "    <tr>\n",
       "      <th>4</th>\n",
       "      <td>2.0</td>\n",
       "      <td>31.0</td>\n",
       "      <td>3.0</td>\n",
       "      <td>7.0</td>\n",
       "      <td>0.0</td>\n",
       "      <td>0.0</td>\n",
       "      <td>85.0</td>\n",
       "      <td>0</td>\n",
       "      <td>0</td>\n",
       "      <td>0</td>\n",
       "      <td>...</td>\n",
       "      <td>0</td>\n",
       "      <td>0</td>\n",
       "      <td>0</td>\n",
       "      <td>0</td>\n",
       "      <td>0</td>\n",
       "      <td>0</td>\n",
       "      <td>0</td>\n",
       "      <td>1</td>\n",
       "      <td>0</td>\n",
       "      <td>1</td>\n",
       "    </tr>\n",
       "    <tr>\n",
       "      <th>5</th>\n",
       "      <td>1.0</td>\n",
       "      <td>31.0</td>\n",
       "      <td>3.0</td>\n",
       "      <td>5.0</td>\n",
       "      <td>0.0</td>\n",
       "      <td>0.0</td>\n",
       "      <td>59.0</td>\n",
       "      <td>0</td>\n",
       "      <td>0</td>\n",
       "      <td>0</td>\n",
       "      <td>...</td>\n",
       "      <td>0</td>\n",
       "      <td>0</td>\n",
       "      <td>0</td>\n",
       "      <td>0</td>\n",
       "      <td>0</td>\n",
       "      <td>0</td>\n",
       "      <td>0</td>\n",
       "      <td>0</td>\n",
       "      <td>0</td>\n",
       "      <td>0</td>\n",
       "    </tr>\n",
       "  </tbody>\n",
       "</table>\n",
       "<p>5 rows × 53 columns</p>\n",
       "</div>"
      ],
      "text/plain": [
       "   no_of_trainings   age  previous_year_rating  length_of_service  \\\n",
       "1              1.0  30.0                   5.0                4.0   \n",
       "2              1.0  34.0                   3.0                7.0   \n",
       "3              1.0  45.0                   3.0                2.0   \n",
       "4              2.0  31.0                   3.0                7.0   \n",
       "5              1.0  31.0                   3.0                5.0   \n",
       "\n",
       "   KPIs_met >80%  awards_won?  avg_training_score  department_Finance  \\\n",
       "1            0.0          0.0                60.0                   0   \n",
       "2            0.0          0.0                50.0                   0   \n",
       "3            0.0          0.0                73.0                   0   \n",
       "4            0.0          0.0                85.0                   0   \n",
       "5            0.0          0.0                59.0                   0   \n",
       "\n",
       "   department_HR  department_Legal  ...  region_region_5  region_region_6  \\\n",
       "1              0                 0  ...                0                0   \n",
       "2              0                 0  ...                0                0   \n",
       "3              0                 0  ...                0                0   \n",
       "4              0                 0  ...                0                0   \n",
       "5              0                 0  ...                0                0   \n",
       "\n",
       "   region_region_7  region_region_8  region_region_9  \\\n",
       "1                0                0                0   \n",
       "2                0                0                0   \n",
       "3                0                0                0   \n",
       "4                0                0                0   \n",
       "5                0                0                0   \n",
       "\n",
       "   education_Below Secondary  education_Master's & above  gender_m  \\\n",
       "1                          0                           0         1   \n",
       "2                          0                           0         1   \n",
       "3                          0                           0         1   \n",
       "4                          0                           0         1   \n",
       "5                          0                           0         0   \n",
       "\n",
       "   recruitment_channel_referred  recruitment_channel_sourcing  \n",
       "1                             0                             0  \n",
       "2                             0                             1  \n",
       "3                             0                             0  \n",
       "4                             0                             1  \n",
       "5                             0                             0  \n",
       "\n",
       "[5 rows x 53 columns]"
      ]
     },
     "execution_count": 38,
     "metadata": {},
     "output_type": "execute_result"
    }
   ],
   "source": [
    "df_test_feat = df_test.drop('is_promoted', 1)\n",
    "df_test_class = df_test['is_promoted']\n",
    "\n",
    "df_test_feat.head()"
   ]
  },
  {
   "cell_type": "code",
   "execution_count": 39,
   "metadata": {},
   "outputs": [
    {
     "data": {
      "text/plain": [
       "0.0    89\n",
       "1.0    17\n",
       "Name: is_promoted, dtype: int64"
      ]
     },
     "execution_count": 39,
     "metadata": {},
     "output_type": "execute_result"
    }
   ],
   "source": [
    "df_test_class.value_counts()"
   ]
  },
  {
   "cell_type": "code",
   "execution_count": 40,
   "metadata": {},
   "outputs": [
    {
     "name": "stdout",
     "output_type": "stream",
     "text": [
      "Accuracy score:  svc  -  0.84\n",
      "The confusion Matrix for model:svc \n",
      "\n",
      "\n",
      "[[89  0]\n",
      " [17  0]] \n",
      "\n",
      "              precision    recall  f1-score   support\n",
      "\n",
      "         0.0       0.84      1.00      0.91        89\n",
      "         1.0       0.00      0.00      0.00        17\n",
      "\n",
      "    accuracy                           0.84       106\n",
      "   macro avg       0.42      0.50      0.46       106\n",
      "weighted avg       0.70      0.84      0.77       106\n",
      "\n",
      "Accuracy score:  lr  -  0.85\n",
      "The confusion Matrix for model:lr \n",
      "\n",
      "\n",
      "[[89  0]\n",
      " [16  1]] \n",
      "\n",
      "              precision    recall  f1-score   support\n",
      "\n",
      "         0.0       0.85      1.00      0.92        89\n",
      "         1.0       1.00      0.06      0.11        17\n",
      "\n",
      "    accuracy                           0.85       106\n",
      "   macro avg       0.92      0.53      0.51       106\n",
      "weighted avg       0.87      0.85      0.79       106\n",
      "\n",
      "Accuracy score:  knc  -  0.85\n",
      "The confusion Matrix for model:knc \n",
      "\n",
      "\n",
      "[[89  0]\n",
      " [16  1]] \n",
      "\n",
      "              precision    recall  f1-score   support\n",
      "\n",
      "         0.0       0.85      1.00      0.92        89\n",
      "         1.0       1.00      0.06      0.11        17\n",
      "\n",
      "    accuracy                           0.85       106\n",
      "   macro avg       0.92      0.53      0.51       106\n",
      "weighted avg       0.87      0.85      0.79       106\n",
      "\n",
      "Accuracy score:  rfc  -  0.84\n",
      "The confusion Matrix for model:rfc \n",
      "\n",
      "\n",
      "[[89  0]\n",
      " [17  0]] \n",
      "\n",
      "              precision    recall  f1-score   support\n",
      "\n",
      "         0.0       0.84      1.00      0.91        89\n",
      "         1.0       0.00      0.00      0.00        17\n",
      "\n",
      "    accuracy                           0.84       106\n",
      "   macro avg       0.42      0.50      0.46       106\n",
      "weighted avg       0.70      0.84      0.77       106\n",
      "\n",
      "Accuracy score:  dtc  -  0.82\n",
      "The confusion Matrix for model:dtc \n",
      "\n",
      "\n",
      "[[80  9]\n",
      " [10  7]] \n",
      "\n",
      "              precision    recall  f1-score   support\n",
      "\n",
      "         0.0       0.89      0.90      0.89        89\n",
      "         1.0       0.44      0.41      0.42        17\n",
      "\n",
      "    accuracy                           0.82       106\n",
      "   macro avg       0.66      0.66      0.66       106\n",
      "weighted avg       0.82      0.82      0.82       106\n",
      "\n"
     ]
    },
    {
     "name": "stderr",
     "output_type": "stream",
     "text": [
      "C:\\Users\\piyu\\Anaconda3\\lib\\site-packages\\sklearn\\metrics\\classification.py:1437: UndefinedMetricWarning: Precision and F-score are ill-defined and being set to 0.0 in labels with no predicted samples.\n",
      "  'precision', 'predicted', average, warn_for)\n",
      "C:\\Users\\piyu\\Anaconda3\\lib\\site-packages\\sklearn\\metrics\\classification.py:1437: UndefinedMetricWarning: Precision and F-score are ill-defined and being set to 0.0 in labels with no predicted samples.\n",
      "  'precision', 'predicted', average, warn_for)\n"
     ]
    }
   ],
   "source": [
    "# Predicting the test values\n",
    "\n",
    "for model in model_dict:\n",
    "    pred_tst_c=model.predict(df_test_feat)\n",
    "    accc=accuracy_score(df_test_class, pred_tst_c)\n",
    "    print(\"Accuracy score: \", model_dict[model], \" - \", accc.round(2))\n",
    "    print (\"The confusion Matrix for model:{} \\n\\n\".format(model_dict[model]))\n",
    "    print (confusion_matrix(df_test_class, pred_tst_c), '\\n')\n",
    "    print (classification_report(df_test_class, pred_tst_c))"
   ]
  },
  {
   "cell_type": "code",
   "execution_count": 41,
   "metadata": {},
   "outputs": [
    {
     "name": "stdout",
     "output_type": "stream",
     "text": [
      "Accuracy score:  svc  -  0.84\n",
      "Accuracy score:  lr  -  0.85\n",
      "Accuracy score:  knc  -  0.85\n",
      "Accuracy score:  rfc  -  0.84\n",
      "Accuracy score:  dtc  -  0.82\n"
     ]
    }
   ],
   "source": [
    "for model in model_dict:\n",
    "    pred_c=model.predict(df_test_feat)\n",
    "    accc=accuracy_score(df_test_class, pred_c)\n",
    "    print(\"Accuracy score: \", model_dict[model], \" - \", accc.round(2))"
   ]
  },
  {
   "cell_type": "code",
   "execution_count": 42,
   "metadata": {},
   "outputs": [
    {
     "name": "stdout",
     "output_type": "stream",
     "text": [
      "Accuracy score for model -  svc with cross validation is  0.84\n",
      "Accuracy score for model -  lr with cross validation is  0.86\n",
      "Accuracy score for model -  knc with cross validation is  0.84\n",
      "Accuracy score for model -  rfc with cross validation is  0.84\n",
      "Accuracy score for model -  dtc with cross validation is  0.74\n"
     ]
    }
   ],
   "source": [
    "# Prediction with k_fold cross-validation \n",
    "for model in model_dict:\n",
    "    score=cross_val_score(model,df_test_feat,df_test_class, cv=10)\n",
    "    print(\"Accuracy score for model - \", model_dict[model], \"with cross validation is \",'{:3.2f}'.format(score.mean()))"
   ]
  },
  {
   "cell_type": "markdown",
   "metadata": {},
   "source": [
    "Clearly the logistic regression outperforms other models."
   ]
  }
 ],
 "metadata": {
  "kernelspec": {
   "display_name": "Python 3",
   "language": "python",
   "name": "python3"
  },
  "language_info": {
   "codemirror_mode": {
    "name": "ipython",
    "version": 3
   },
   "file_extension": ".py",
   "mimetype": "text/x-python",
   "name": "python",
   "nbconvert_exporter": "python",
   "pygments_lexer": "ipython3",
   "version": "3.7.3"
  }
 },
 "nbformat": 4,
 "nbformat_minor": 4
}
